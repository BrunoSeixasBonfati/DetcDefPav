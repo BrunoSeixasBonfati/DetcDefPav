{
  "nbformat": 4,
  "nbformat_minor": 0,
  "metadata": {
    "colab": {
      "provenance": [],
      "mount_file_id": "1WSSjJyXrHevq0TT74-XKm311ochMNCIU",
      "authorship_tag": "ABX9TyNRB28w6tmQgrwH9Qeqh1O8",
      "include_colab_link": true
    },
    "kernelspec": {
      "name": "python3",
      "display_name": "Python 3"
    },
    "language_info": {
      "name": "python"
    }
  },
  "cells": [
    {
      "cell_type": "markdown",
      "metadata": {
        "id": "view-in-github",
        "colab_type": "text"
      },
      "source": [
        "<a href=\"https://colab.research.google.com/github/BrunoSeixasBonfati/DetcDefPav/blob/main/detecDefeitoPav_DROPOUT.ipynb\" target=\"_parent\"><img src=\"https://colab.research.google.com/assets/colab-badge.svg\" alt=\"Open In Colab\"/></a>"
      ]
    },
    {
      "cell_type": "code",
      "execution_count": null,
      "metadata": {
        "id": "kTt-p6L1832l"
      },
      "outputs": [],
      "source": [
        "import numpy as np\n",
        "import matplotlib.pyplot as plt\n",
        "import os\n",
        "import cv2\n",
        "from sklearn.model_selection import train_test_split\n",
        "import tensorflow as tf\n",
        "from tensorflow.keras import layers, models\n",
        "from tensorflow.keras.preprocessing.image import ImageDataGenerator"
      ]
    },
    {
      "cell_type": "markdown",
      "source": [
        "Função para carregar e pré-processar o conjunto de dados"
      ],
      "metadata": {
        "id": "Qqv1baax_mQf"
      }
    },
    {
      "cell_type": "code",
      "source": [
        "def load_data(data_dir, img_size):\n",
        "    X = []\n",
        "    y = []\n",
        "    classes = os.listdir(data_dir)\n",
        "\n",
        "    for class_name in classes:\n",
        "        class_dir = os.path.join(data_dir, class_name)\n",
        "        for img_name in os.listdir(class_dir):\n",
        "            img_path = os.path.join(class_dir, img_name)\n",
        "            img = cv2.imread(img_path)\n",
        "            img = cv2.resize(img, (img_size, img_size))\n",
        "            X.append(img)\n",
        "            y.append(classes.index(class_name))\n",
        "\n",
        "    X = np.array(X)\n",
        "    y = np.array(y)\n",
        "    return X, y"
      ],
      "metadata": {
        "id": "kF2SoAKT_j9C"
      },
      "execution_count": null,
      "outputs": []
    },
    {
      "cell_type": "markdown",
      "source": [
        "Carregar o conjunto de dados"
      ],
      "metadata": {
        "id": "rNioWUNl_u_A"
      }
    },
    {
      "cell_type": "code",
      "source": [
        "data_dir = \"/content/drive/MyDrive/CodigoDissertacao/filtered\"\n",
        "img_size = 100\n",
        "X, y = load_data(data_dir, img_size)"
      ],
      "metadata": {
        "id": "ekVyBMwv_vbp"
      },
      "execution_count": null,
      "outputs": []
    },
    {
      "cell_type": "markdown",
      "source": [
        "Dividir o conjunto de dados em treinamento e teste"
      ],
      "metadata": {
        "id": "hUnt6JWA_w9A"
      }
    },
    {
      "cell_type": "code",
      "source": [
        "X_train, X_test, y_train, y_test = train_test_split(X, y, test_size=0.2, random_state=42, stratify=y)"
      ],
      "metadata": {
        "id": "Uo3jq_YU_yfg"
      },
      "execution_count": null,
      "outputs": []
    },
    {
      "cell_type": "markdown",
      "source": [
        "Função de oversampling (Sobreamostragem) aumentar o número de amostras das classes que têm menos amostras, para equilibrar a distribuição das classes"
      ],
      "metadata": {
        "id": "EnFPv-WrjiKn"
      }
    },
    {
      "cell_type": "code",
      "source": [
        "from imblearn.over_sampling import RandomOverSampler\n",
        "\n",
        "# Criar uma instância do RandomOverSampler\n",
        "oversampler = RandomOverSampler(random_state=42)\n",
        "\n",
        "# Reshape os dados de treinamento para terem apenas 2 dimensões\n",
        "num_samples_train, img_height, img_width, num_channels = X_train.shape\n",
        "X_train_reshaped = X_train.reshape(num_samples_train, -1)\n",
        "\n",
        "# Aplicar o oversampling aos seus dados de treinamento\n",
        "X_train_oversampled, y_train_oversampled = oversampler.fit_resample(X_train_reshaped, y_train)\n",
        "\n",
        "# Agora X_train_oversampled e y_train_oversampled contêm os dados de treinamento com oversampling\n",
        "\n",
        "# Voltar ao formato original após o oversampling\n",
        "X_train_oversampled = X_train_oversampled.reshape(-1, img_height, img_width, num_channels)"
      ],
      "metadata": {
        "id": "0bgA3gvhT7iO"
      },
      "execution_count": null,
      "outputs": []
    },
    {
      "cell_type": "markdown",
      "source": [
        "Construir o modelo CNN"
      ],
      "metadata": {
        "id": "EZAO5uDq_1mQ"
      }
    },
    {
      "cell_type": "code",
      "source": [
        "# Adicionando mais camadas à rede neural\n",
        "model = models.Sequential([\n",
        "layers.Conv2D(32, (3, 3), activation='relu', input_shape=(img_size, img_size, 3)),\n",
        "layers.MaxPooling2D((2, 2)),\n",
        "layers.Conv2D(64, (3, 3), activation='relu'),\n",
        "layers.MaxPooling2D((2, 2)),\n",
        "layers.Conv2D(128, (3, 3), activation='relu'),  # Nova camada convolucional\n",
        "layers.Flatten(),\n",
        "layers.Dense(128, activation='relu'),  # Nova camada densa\n",
        "layers.Dense(len(np.unique(y)), activation='softmax')\n",
        "])\n",
        "\n",
        "# Aumentando o número de neurônios em cada camada\n",
        "model = models.Sequential([\n",
        "layers.Conv2D(64, (3, 3), activation='relu', input_shape=(img_size, img_size, 3)),  # Aumentando para 64 filtros\n",
        "layers.MaxPooling2D((2, 2)),\n",
        "layers.Conv2D(128, (3, 3), activation='relu'),  # Aumentando para 128 filtros\n",
        "layers.MaxPooling2D((2, 2)),\n",
        "layers.Conv2D(256, (3, 3), activation='relu'),  # Aumentando para 256 filtros\n",
        "layers.Flatten(),\n",
        "layers.Dense(256, activation='relu'),  # Aumentando para 256 neurônios\n",
        "layers.Dense(len(np.unique(y)), activation='softmax')\n",
        "])\n",
        "\n",
        "# Experimentando arquiteturas mais complexas\n",
        "from tensorflow.keras.applications import VGG16\n",
        "\n",
        "base_model = VGG16(weights='imagenet', include_top=False, input_shape=(img_size, img_size, 3))\n",
        "\n",
        "model = models.Sequential([\n",
        "base_model,\n",
        "layers.Flatten(),\n",
        "layers.Dense(256, activation='relu'),\n",
        "layers.Dropout(0.5),\n",
        "layers.Dense(len(np.unique(y)), activation='softmax')\n",
        "])"
      ],
      "metadata": {
        "id": "aXsXw-Ky_3xx"
      },
      "execution_count": null,
      "outputs": []
    },
    {
      "cell_type": "markdown",
      "source": [
        "Normalizar os dados de entrada e Aumento de dados"
      ],
      "metadata": {
        "id": "zqFRFFBRTZGz"
      }
    },
    {
      "cell_type": "code",
      "source": [
        "X_train = X_train.astype('float32') / 255.0\n",
        "X_test = X_test.astype('float32') / 255.0\n",
        "\n",
        "# Aumento de dados\n",
        "datagen = ImageDataGenerator(\n",
        "    rotation_range=20,\n",
        "    width_shift_range=0.2,\n",
        "    height_shift_range=0.2,\n",
        "    horizontal_flip=True\n",
        ")\n",
        "\n",
        "datagen.fit(X_train)"
      ],
      "metadata": {
        "id": "DgtrW9LATdZE"
      },
      "execution_count": null,
      "outputs": []
    },
    {
      "cell_type": "markdown",
      "source": [
        "Compilar o modelo"
      ],
      "metadata": {
        "id": "dPInG_lM_5V4"
      }
    },
    {
      "cell_type": "code",
      "source": [
        "optimizer = tf.keras.optimizers.Adam()\n",
        "\n",
        "model.compile(optimizer=optimizer,\n",
        "              loss='sparse_categorical_crossentropy',\n",
        "              metrics=['accuracy'])"
      ],
      "metadata": {
        "id": "3PPUTs5a_67Z"
      },
      "execution_count": null,
      "outputs": []
    },
    {
      "cell_type": "markdown",
      "source": [
        "Treinar o modelo"
      ],
      "metadata": {
        "id": "p3R-euCm_8Qp"
      }
    },
    {
      "cell_type": "code",
      "source": [
        "history = model.fit(datagen.flow(X_train, y_train, batch_size=32),\n",
        "                    steps_per_epoch=len(X_train) / 32,\n",
        "                    epochs=10,\n",
        "                    validation_data=(X_test, y_test))"
      ],
      "metadata": {
        "id": "xc_T-Je8_9lY",
        "colab": {
          "base_uri": "https://localhost:8080/"
        },
        "outputId": "808f0d77-db44-40f7-bc90-8233ee1bc0c6"
      },
      "execution_count": null,
      "outputs": [
        {
          "output_type": "stream",
          "name": "stdout",
          "text": [
            "Epoch 1/10\n",
            "13/13 [==============================] - 128s 10s/step - loss: 4.3157 - accuracy: 0.2629 - val_loss: 1.8572 - val_accuracy: 0.3738\n",
            "Epoch 2/10\n",
            "13/13 [==============================] - 127s 10s/step - loss: 1.9190 - accuracy: 0.3615 - val_loss: 1.9282 - val_accuracy: 0.3738\n",
            "Epoch 3/10\n",
            "13/13 [==============================] - 124s 9s/step - loss: 1.9499 - accuracy: 0.3286 - val_loss: 1.8300 - val_accuracy: 0.3738\n",
            "Epoch 4/10\n",
            "13/13 [==============================] - 124s 9s/step - loss: 1.8159 - accuracy: 0.3756 - val_loss: 1.7802 - val_accuracy: 0.3738\n",
            "Epoch 5/10\n",
            "13/13 [==============================] - 124s 9s/step - loss: 1.7594 - accuracy: 0.4061 - val_loss: 1.7618 - val_accuracy: 0.4112\n",
            "Epoch 6/10\n",
            "13/13 [==============================] - 124s 9s/step - loss: 1.7228 - accuracy: 0.4366 - val_loss: 1.6512 - val_accuracy: 0.4206\n",
            "Epoch 7/10\n",
            "13/13 [==============================] - 124s 9s/step - loss: 1.7105 - accuracy: 0.4531 - val_loss: 1.7582 - val_accuracy: 0.3738\n",
            "Epoch 8/10\n",
            "13/13 [==============================] - 126s 10s/step - loss: 1.5936 - accuracy: 0.4648 - val_loss: 1.6208 - val_accuracy: 0.4579\n",
            "Epoch 9/10\n",
            "13/13 [==============================] - 124s 9s/step - loss: 1.6882 - accuracy: 0.4437 - val_loss: 1.5659 - val_accuracy: 0.4579\n",
            "Epoch 10/10\n",
            "13/13 [==============================] - 124s 9s/step - loss: 1.5509 - accuracy: 0.5070 - val_loss: 1.5726 - val_accuracy: 0.4299\n"
          ]
        }
      ]
    },
    {
      "cell_type": "markdown",
      "source": [
        "Plotar os resultados do treinamento"
      ],
      "metadata": {
        "id": "r9hUBAmK__WJ"
      }
    },
    {
      "cell_type": "code",
      "source": [
        "plt.plot(history.history['accuracy'], label='accuracy')\n",
        "plt.plot(history.history['val_accuracy'], label = 'val_accuracy')\n",
        "plt.xlabel('Epoch')\n",
        "plt.ylabel('Accuracy')\n",
        "plt.ylim([0, 1])\n",
        "plt.legend(loc='lower right')\n",
        "plt.show()"
      ],
      "metadata": {
        "id": "48NBPVdEABGx",
        "colab": {
          "base_uri": "https://localhost:8080/",
          "height": 455
        },
        "outputId": "38e73a74-8ae0-453c-a1bc-83e16e59ca4d"
      },
      "execution_count": null,
      "outputs": [
        {
          "output_type": "display_data",
          "data": {
            "text/plain": [
              "<Figure size 640x480 with 1 Axes>"
            ],
            "image/png": "[encoded data removed]"
          },
          "metadata": {}
        }
      ]
    },
    {
      "cell_type": "markdown",
      "source": [
        "Avaliar o modelo no conjunto de teste"
      ],
      "metadata": {
        "id": "e4OEv9NOACx4"
      }
    },
    {
      "cell_type": "code",
      "source": [
        "test_loss, test_acc = model.evaluate(X_test, y_test)\n",
        "print(\"Acurácia no conjunto de teste:\", test_acc)"
      ],
      "metadata": {
        "id": "R76TwMSvAJ6w",
        "colab": {
          "base_uri": "https://localhost:8080/"
        },
        "outputId": "88842bcf-b162-4239-b460-7777f6dee498"
      },
      "execution_count": null,
      "outputs": [
        {
          "output_type": "stream",
          "name": "stdout",
          "text": [
            "4/4 [==============================] - 7s 2s/step - loss: 1.5726 - accuracy: 0.4299\n",
            "Acurácia no conjunto de teste: 0.42990654706954956\n"
          ]
        }
      ]
    },
    {
      "cell_type": "code",
      "source": [
        "from sklearn.metrics import classification_report\n",
        "\n",
        "# Prever as classes para o conjunto de teste\n",
        "y_pred = model.predict(X_test)\n",
        "y_pred_classes = np.argmax(y_pred, axis=1)\n",
        "\n",
        "# Gerar o relatório de classificação\n",
        "report = classification_report(y_test, y_pred_classes)\n",
        "\n",
        "print(\"Relatório de Classificação:\")\n",
        "print(report)\n"
      ],
      "metadata": {
        "colab": {
          "base_uri": "https://localhost:8080/"
        },
        "id": "9tHYxc0RDhxj",
        "outputId": "3b25d6f6-99e6-49fb-dfce-ae2e40ac3fbe"
      },
      "execution_count": null,
      "outputs": [
        {
          "output_type": "stream",
          "name": "stdout",
          "text": [
            "4/4 [==============================] - 7s 2s/step\n",
            "Relatório de Classificação:\n",
            "              precision    recall  f1-score   support\n",
            "\n",
            "           0       0.00      0.00      0.00         7\n",
            "           1       0.00      0.00      0.00         9\n",
            "           2       0.00      0.00      0.00         5\n",
            "           3       0.00      0.00      0.00         7\n",
            "           4       0.00      0.00      0.00         7\n",
            "           5       0.36      0.76      0.49        17\n",
            "           6       0.17      0.40      0.24        15\n",
            "           7       0.77      0.68      0.72        40\n",
            "\n",
            "    accuracy                           0.43       107\n",
            "   macro avg       0.16      0.23      0.18       107\n",
            "weighted avg       0.37      0.43      0.38       107\n",
            "\n"
          ]
        },
        {
          "output_type": "stream",
          "name": "stderr",
          "text": [
            "/usr/local/lib/python3.10/dist-packages/sklearn/metrics/_classification.py:1344: UndefinedMetricWarning: Precision and F-score are ill-defined and being set to 0.0 in labels with no predicted samples. Use `zero_division` parameter to control this behavior.\n",
            "  _warn_prf(average, modifier, msg_start, len(result))\n",
            "/usr/local/lib/python3.10/dist-packages/sklearn/metrics/_classification.py:1344: UndefinedMetricWarning: Precision and F-score are ill-defined and being set to 0.0 in labels with no predicted samples. Use `zero_division` parameter to control this behavior.\n",
            "  _warn_prf(average, modifier, msg_start, len(result))\n",
            "/usr/local/lib/python3.10/dist-packages/sklearn/metrics/_classification.py:1344: UndefinedMetricWarning: Precision and F-score are ill-defined and being set to 0.0 in labels with no predicted samples. Use `zero_division` parameter to control this behavior.\n",
            "  _warn_prf(average, modifier, msg_start, len(result))\n"
          ]
        }
      ]
    },
    {
      "cell_type": "code",
      "source": [
        "# Suponha que você tenha uma lista de nomes de classes\n",
        "class_folders = os.listdir(data_dir)  # Obtém os nomes das pastas das classes do diretório de dados\n",
        "class_dict = {i: folder for i, folder in enumerate(class_folders)}  # Cria um dicionário de mapeamento de índice de classe para nome da pasta\n",
        "class_dict\n"
      ],
      "metadata": {
        "colab": {
          "base_uri": "https://localhost:8080/"
        },
        "id": "3mZTpSe_GVJn",
        "outputId": "a351a63e-cdf1-47f5-8d98-ffe516d588e6"
      },
      "execution_count": null,
      "outputs": [
        {
          "output_type": "execute_result",
          "data": {
            "text/plain": [
              "{0: '4_TrincaTransversal',\n",
              " 1: '13_Exsudação',\n",
              " 2: '8_Desgaste',\n",
              " 3: '14_Remendo',\n",
              " 4: '5_TrincaLongitudinal',\n",
              " 5: '1_Buraco',\n",
              " 6: '3_TrincaPorFadiga',\n",
              " 7: 'NonCracks'}"
            ]
          },
          "metadata": {},
          "execution_count": 13
        }
      ]
    },
    {
      "cell_type": "code",
      "source": [
        "# Contar o número de amostras para a classe em questão no conjunto de treinamento\n",
        "num_samples_train = np.sum(y_train == 6)\n",
        "\n",
        "# Contar o número de amostras para a classe em questão no conjunto de teste\n",
        "num_samples_test = np.sum(y_test == 6)\n",
        "\n",
        "print(\"Número de amostras para a classe em questão no conjunto de treinamento:\", num_samples_train)\n",
        "print(\"Número de amostras para a classe em questão no conjunto de teste:\", num_samples_test)\n"
      ],
      "metadata": {
        "colab": {
          "base_uri": "https://localhost:8080/"
        },
        "id": "l07nhMyjHvfb",
        "outputId": "7e7e3811-c78f-4f9a-c5cd-f873fa553246"
      },
      "execution_count": null,
      "outputs": [
        {
          "output_type": "stream",
          "name": "stdout",
          "text": [
            "Número de amostras para a classe em questão no conjunto de treinamento: 66\n",
            "Número de amostras para a classe em questão no conjunto de teste: 9\n"
          ]
        }
      ]
    }
  ]
}